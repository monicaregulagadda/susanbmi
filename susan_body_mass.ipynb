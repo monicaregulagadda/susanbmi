{
 "cells": [
  {
   "cell_type": "code",
   "execution_count": 2,
   "id": "3ec7e044-bc55-467c-a966-828dad008dac",
   "metadata": {},
   "outputs": [
    {
     "name": "stdout",
     "output_type": "stream",
     "text": [
      "24.034609838166958\n"
     ]
    }
   ],
   "source": [
    "# define a variable weight and assign susan body weight in kgs.\n",
    "weight=60\n",
    "\n",
    "# define a variable height and assign susan height in metres.\n",
    "height=1.58\n",
    "\n",
    "#calculating the body mass index.\n",
    "BMI=weight/(height**2)\n",
    "\n",
    "# print body mass index of susan in float.\n",
    "print(float(BMI))"
   ]
  },
  {
   "cell_type": "code",
   "execution_count": null,
   "id": "138e56be-8608-4bf5-856b-4e7518beefa4",
   "metadata": {},
   "outputs": [],
   "source": []
  }
 ],
 "metadata": {
  "kernelspec": {
   "display_name": "Python 3 (ipykernel)",
   "language": "python",
   "name": "python3"
  },
  "language_info": {
   "codemirror_mode": {
    "name": "ipython",
    "version": 3
   },
   "file_extension": ".py",
   "mimetype": "text/x-python",
   "name": "python",
   "nbconvert_exporter": "python",
   "pygments_lexer": "ipython3",
   "version": "3.12.5"
  }
 },
 "nbformat": 4,
 "nbformat_minor": 5
}
